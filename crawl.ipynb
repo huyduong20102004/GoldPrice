{
 "cells": [
  {
   "cell_type": "code",
   "execution_count": 1,
   "metadata": {},
   "outputs": [],
   "source": [
    "import _dates"
   ]
  },
  {
   "cell_type": "markdown",
   "metadata": {},
   "source": [
    "## Crawling the first day data"
   ]
  },
  {
   "cell_type": "code",
   "execution_count": 2,
   "metadata": {},
   "outputs": [],
   "source": [
    "import requests\n",
    "from bs4 import BeautifulSoup"
   ]
  },
  {
   "cell_type": "code",
   "execution_count": 17,
   "metadata": {},
   "outputs": [],
   "source": [
    "url = \"https://giavang.pnj.com.vn/history?gold_history_day=2&gold_history_month=1&gold_history_year=2024\"\n",
    "\n",
    "resp = requests.get(url)\n",
    "soup = BeautifulSoup(resp.text, 'html.parser')\n",
    "\n",
    "#write to file\n",
    "with open(\"data.html\", \"w\") as file:\n",
    "    file.write(soup.prettify())"
   ]
  },
  {
   "cell_type": "code",
   "execution_count": 10,
   "metadata": {},
   "outputs": [
    {
     "data": {
      "text/plain": [
       "[<th class=\"style1\">Khu vực</th>,\n",
       " <th class=\"style1\">Loại vàng</th>,\n",
       " <th class=\"style1\">Giá mua</th>,\n",
       " <th class=\"style1\">Giá bán</th>,\n",
       " <th class=\"style1\">Thời gian cập nhật</th>,\n",
       " <th class=\"style1\" colspan=\"4\"> Lịch sử giá vàng TPHCM </th>,\n",
       " <th class=\"style1\" colspan=\"4\"> Lịch sử giá vàng Hà Nội </th>,\n",
       " <th class=\"style1\" colspan=\"4\"> Lịch sử giá vàng Đà Nẵng </th>,\n",
       " <th class=\"style1\" colspan=\"4\"> Lịch sử giá vàng Miền Tây </th>,\n",
       " <th class=\"style1\" colspan=\"4\"> Lịch sử giá vàng Tây Nguyên </th>,\n",
       " <th class=\"style1\" colspan=\"4\"> Lịch sử giá vàng Đông Nam Bộ </th>,\n",
       " <th class=\"style1\" colspan=\"4\"> Lịch sử giá vàng Giá vàng nữ trang </th>]"
      ]
     },
     "execution_count": 10,
     "metadata": {},
     "output_type": "execute_result"
    }
   ],
   "source": [
    "# take all the th tags with class style1\n",
    "soup.find_all('th', class_='style1')"
   ]
  },
  {
   "cell_type": "code",
   "execution_count": 16,
   "metadata": {},
   "outputs": [
    {
     "ename": "AttributeError",
     "evalue": "'NoneType' object has no attribute 'find_all'",
     "output_type": "error",
     "traceback": [
      "\u001b[1;31m---------------------------------------------------------------------------\u001b[0m",
      "\u001b[1;31mAttributeError\u001b[0m                            Traceback (most recent call last)",
      "Cell \u001b[1;32mIn[16], line 8\u001b[0m\n\u001b[0;32m      6\u001b[0m \u001b[38;5;66;03m# find all content in the table hcm\u001b[39;00m\n\u001b[0;32m      7\u001b[0m table \u001b[38;5;241m=\u001b[39m hcm\u001b[38;5;241m.\u001b[39mfind_next_sibling()\n\u001b[1;32m----> 8\u001b[0m table\u001b[38;5;241m.\u001b[39mfind_all(\u001b[38;5;124m'\u001b[39m\u001b[38;5;124mtr\u001b[39m\u001b[38;5;124m'\u001b[39m)\n",
      "\u001b[1;31mAttributeError\u001b[0m: 'NoneType' object has no attribute 'find_all'"
     ]
    }
   ],
   "source": [
    "#<th class=\"style1\" colspan=\"4\"> Lịch sử giá vàng TPHCM </th>\n",
    "\n",
    "# take the 6th th tag with class style1 find all it siblings\n",
    "hcm = soup.find_all('th', class_='style1')[5]\n",
    "\n",
    "# find all content in the table hcm\n"
   ]
  }
 ],
 "metadata": {
  "kernelspec": {
   "display_name": "base",
   "language": "python",
   "name": "python3"
  },
  "language_info": {
   "codemirror_mode": {
    "name": "ipython",
    "version": 3
   },
   "file_extension": ".py",
   "mimetype": "text/x-python",
   "name": "python",
   "nbconvert_exporter": "python",
   "pygments_lexer": "ipython3",
   "version": "3.11.7"
  }
 },
 "nbformat": 4,
 "nbformat_minor": 2
}

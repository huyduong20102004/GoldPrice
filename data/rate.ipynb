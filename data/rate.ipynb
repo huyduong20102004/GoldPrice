{
 "cells": [
  {
   "cell_type": "code",
   "execution_count": 14,
   "metadata": {},
   "outputs": [],
   "source": [
    "import pandas as pd"
   ]
  },
  {
   "cell_type": "code",
   "execution_count": 15,
   "metadata": {},
   "outputs": [
    {
     "data": {
      "text/html": [
       "<div>\n",
       "<style scoped>\n",
       "    .dataframe tbody tr th:only-of-type {\n",
       "        vertical-align: middle;\n",
       "    }\n",
       "\n",
       "    .dataframe tbody tr th {\n",
       "        vertical-align: top;\n",
       "    }\n",
       "\n",
       "    .dataframe thead th {\n",
       "        text-align: right;\n",
       "    }\n",
       "</style>\n",
       "<table border=\"1\" class=\"dataframe\">\n",
       "  <thead>\n",
       "    <tr style=\"text-align: right;\">\n",
       "      <th></th>\n",
       "      <th>update</th>\n",
       "      <th>type</th>\n",
       "      <th>buy</th>\n",
       "      <th>sell</th>\n",
       "    </tr>\n",
       "  </thead>\n",
       "  <tbody>\n",
       "    <tr>\n",
       "      <th>0</th>\n",
       "      <td>2023-12-22</td>\n",
       "      <td>PNJ</td>\n",
       "      <td>62.95</td>\n",
       "      <td>61.90</td>\n",
       "    </tr>\n",
       "    <tr>\n",
       "      <th>1</th>\n",
       "      <td>2023-12-23</td>\n",
       "      <td>PNJ</td>\n",
       "      <td>62.95</td>\n",
       "      <td>61.90</td>\n",
       "    </tr>\n",
       "    <tr>\n",
       "      <th>2</th>\n",
       "      <td>2023-12-25</td>\n",
       "      <td>PNJ</td>\n",
       "      <td>63.15</td>\n",
       "      <td>62.00</td>\n",
       "    </tr>\n",
       "    <tr>\n",
       "      <th>3</th>\n",
       "      <td>2023-12-26</td>\n",
       "      <td>PNJ</td>\n",
       "      <td>63.65</td>\n",
       "      <td>62.55</td>\n",
       "    </tr>\n",
       "    <tr>\n",
       "      <th>4</th>\n",
       "      <td>2023-12-27</td>\n",
       "      <td>PNJ</td>\n",
       "      <td>63.85</td>\n",
       "      <td>62.75</td>\n",
       "    </tr>\n",
       "  </tbody>\n",
       "</table>\n",
       "</div>"
      ],
      "text/plain": [
       "       update type    buy   sell\n",
       "0  2023-12-22  PNJ  62.95  61.90\n",
       "1  2023-12-23  PNJ  62.95  61.90\n",
       "2  2023-12-25  PNJ  63.15  62.00\n",
       "3  2023-12-26  PNJ  63.65  62.55\n",
       "4  2023-12-27  PNJ  63.85  62.75"
      ]
     },
     "execution_count": 15,
     "metadata": {},
     "output_type": "execute_result"
    }
   ],
   "source": [
    "pnj = pd.read_csv('./six_month_max_pnj.csv')\n",
    "pnj.head()"
   ]
  },
  {
   "cell_type": "code",
   "execution_count": 16,
   "metadata": {},
   "outputs": [],
   "source": [
    "# add a column for rate of change \n",
    "# rate of change = (new - old) / old * 100\n",
    "\n",
    "pnj['rate'] = None\n",
    "\n",
    "for i in range(1, len(pnj)):\n",
    "    pnj.loc[i, 'rate'] = round((pnj.loc[i, 'sell'] - pnj.loc[i-1, 'sell']) / pnj.loc[i-1, 'sell'] * 100, 2)\n",
    "    "
   ]
  },
  {
   "cell_type": "code",
   "execution_count": 17,
   "metadata": {},
   "outputs": [
    {
     "data": {
      "text/html": [
       "<div>\n",
       "<style scoped>\n",
       "    .dataframe tbody tr th:only-of-type {\n",
       "        vertical-align: middle;\n",
       "    }\n",
       "\n",
       "    .dataframe tbody tr th {\n",
       "        vertical-align: top;\n",
       "    }\n",
       "\n",
       "    .dataframe thead th {\n",
       "        text-align: right;\n",
       "    }\n",
       "</style>\n",
       "<table border=\"1\" class=\"dataframe\">\n",
       "  <thead>\n",
       "    <tr style=\"text-align: right;\">\n",
       "      <th></th>\n",
       "      <th>update</th>\n",
       "      <th>type</th>\n",
       "      <th>buy</th>\n",
       "      <th>sell</th>\n",
       "      <th>rate</th>\n",
       "    </tr>\n",
       "  </thead>\n",
       "  <tbody>\n",
       "    <tr>\n",
       "      <th>0</th>\n",
       "      <td>2023-12-22</td>\n",
       "      <td>PNJ</td>\n",
       "      <td>62.95</td>\n",
       "      <td>61.90</td>\n",
       "      <td>None</td>\n",
       "    </tr>\n",
       "    <tr>\n",
       "      <th>1</th>\n",
       "      <td>2023-12-23</td>\n",
       "      <td>PNJ</td>\n",
       "      <td>62.95</td>\n",
       "      <td>61.90</td>\n",
       "      <td>0.0</td>\n",
       "    </tr>\n",
       "    <tr>\n",
       "      <th>2</th>\n",
       "      <td>2023-12-25</td>\n",
       "      <td>PNJ</td>\n",
       "      <td>63.15</td>\n",
       "      <td>62.00</td>\n",
       "      <td>0.16</td>\n",
       "    </tr>\n",
       "    <tr>\n",
       "      <th>3</th>\n",
       "      <td>2023-12-26</td>\n",
       "      <td>PNJ</td>\n",
       "      <td>63.65</td>\n",
       "      <td>62.55</td>\n",
       "      <td>0.89</td>\n",
       "    </tr>\n",
       "    <tr>\n",
       "      <th>4</th>\n",
       "      <td>2023-12-27</td>\n",
       "      <td>PNJ</td>\n",
       "      <td>63.85</td>\n",
       "      <td>62.75</td>\n",
       "      <td>0.32</td>\n",
       "    </tr>\n",
       "  </tbody>\n",
       "</table>\n",
       "</div>"
      ],
      "text/plain": [
       "       update type    buy   sell  rate\n",
       "0  2023-12-22  PNJ  62.95  61.90  None\n",
       "1  2023-12-23  PNJ  62.95  61.90   0.0\n",
       "2  2023-12-25  PNJ  63.15  62.00  0.16\n",
       "3  2023-12-26  PNJ  63.65  62.55  0.89\n",
       "4  2023-12-27  PNJ  63.85  62.75  0.32"
      ]
     },
     "execution_count": 17,
     "metadata": {},
     "output_type": "execute_result"
    }
   ],
   "source": [
    "pnj.head()"
   ]
  },
  {
   "cell_type": "code",
   "execution_count": 18,
   "metadata": {},
   "outputs": [],
   "source": [
    "pnj.to_csv('./six_month_max_pnj_rate.csv', index=False)"
   ]
  },
  {
   "cell_type": "code",
   "execution_count": 19,
   "metadata": {},
   "outputs": [],
   "source": [
    "sjc = pd.read_csv('./six_month_max_sjc.csv')\n",
    "\n",
    "sjc['rate'] = None\n",
    "\n",
    "for i in range(1, len(sjc)):\n",
    "    sjc.loc[i, 'rate'] = round(((sjc.loc[i, 'sell'] - sjc.loc[i-1, 'sell']) / sjc.loc[i-1, 'sell'] * 100),2)\n",
    "\n",
    "sjc.to_csv('./six_month_max_sjc_rate.csv', index=False)\n"
   ]
  },
  {
   "cell_type": "code",
   "execution_count": null,
   "metadata": {},
   "outputs": [],
   "source": []
  }
 ],
 "metadata": {
  "kernelspec": {
   "display_name": "base",
   "language": "python",
   "name": "python3"
  },
  "language_info": {
   "codemirror_mode": {
    "name": "ipython",
    "version": 3
   },
   "file_extension": ".py",
   "mimetype": "text/x-python",
   "name": "python",
   "nbconvert_exporter": "python",
   "pygments_lexer": "ipython3",
   "version": "3.11.7"
  }
 },
 "nbformat": 4,
 "nbformat_minor": 2
}

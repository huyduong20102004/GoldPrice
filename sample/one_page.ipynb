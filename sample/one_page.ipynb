{
 "cells": [
  {
   "cell_type": "code",
   "execution_count": 1,
   "metadata": {},
   "outputs": [],
   "source": [
    "import requests\n",
    "from bs4 import BeautifulSoup\n",
    "import pandas as pd"
   ]
  },
  {
   "cell_type": "markdown",
   "metadata": {},
   "source": [
    "## Crawling the first day data"
   ]
  },
  {
   "cell_type": "code",
   "execution_count": 2,
   "metadata": {},
   "outputs": [],
   "source": [
    "url = \"https://giavang.pnj.com.vn/history?gold_history_day=2&gold_history_month=1&gold_history_year=2024\"\n",
    "#2/1/2024\n",
    "\n",
    "resp = requests.get(url)\n",
    "soup = BeautifulSoup(resp.text, 'html.parser')"
   ]
  },
  {
   "cell_type": "code",
   "execution_count": 3,
   "metadata": {},
   "outputs": [
    {
     "data": {
      "text/plain": [
       "<table border=\"1\" bordercolor=\"grey\" style=\"margin-top:20px;\" width=\"100%\"> <thead> <tr> <th class=\"style1\" colspan=\"4\"> Lịch sử giá vàng TPHCM </th> </tr> </thead> <tbody> <tr> <td class=\"style5\">Loại vàng</td> <td class=\"style5\">Giá mua</td> <td class=\"style5\">Giá bán</td> <td class=\"style5\">Thời gian cập nhật</td> </tr> <tr> <td align=\"center\" rowspan=\"12\" valign=\"middle\">PNJ</td> <td align=\"center\" valign=\"middle\">62.000</td> <td align=\"center\" valign=\"middle\">63.100</td> <td align=\"center\" valign=\"middle\">02/01/2024 08:08:38</td> </tr> <tr> <td align=\"center\" valign=\"middle\">61.900</td> <td align=\"center\" valign=\"middle\">63.000</td> <td align=\"center\" valign=\"middle\">02/01/2024 08:36:02</td> </tr> <tr> <td align=\"center\" valign=\"middle\">61.900</td> <td align=\"center\" valign=\"middle\">63.000</td> <td align=\"center\" valign=\"middle\">02/01/2024 09:05:31</td> </tr> <tr> <td align=\"center\" valign=\"middle\">61.900</td> <td align=\"center\" valign=\"middle\">63.000</td> <td align=\"center\" valign=\"middle\">02/01/2024 09:31:52</td> </tr> <tr> <td align=\"center\" valign=\"middle\">61.900</td> <td align=\"center\" valign=\"middle\">63.000</td> <td align=\"center\" valign=\"middle\">02/01/2024 10:26:39</td> </tr> <tr> <td align=\"center\" valign=\"middle\">61.900</td> <td align=\"center\" valign=\"middle\">63.000</td> <td align=\"center\" valign=\"middle\">02/01/2024 10:50:41</td> </tr> <tr> <td align=\"center\" valign=\"middle\">61.200</td> <td align=\"center\" valign=\"middle\">63.100</td> <td align=\"center\" valign=\"middle\">02/01/2024 13:13:49</td> </tr> <tr> <td align=\"center\" valign=\"middle\">61.200</td> <td align=\"center\" valign=\"middle\">63.100</td> <td align=\"center\" valign=\"middle\">02/01/2024 14:16:44</td> </tr> <tr> <td align=\"center\" valign=\"middle\">61.200</td> <td align=\"center\" valign=\"middle\">63.100</td> <td align=\"center\" valign=\"middle\">02/01/2024 14:20:30</td> </tr> <tr> <td align=\"center\" valign=\"middle\">62.000</td> <td align=\"center\" valign=\"middle\">63.100</td> <td align=\"center\" valign=\"middle\">02/01/2024 14:22:10</td> </tr> <tr> <td align=\"center\" valign=\"middle\">62.100</td> <td align=\"center\" valign=\"middle\">63.100</td> <td align=\"center\" valign=\"middle\">02/01/2024 14:45:49</td> </tr> <tr> <td align=\"center\" valign=\"middle\">62.150</td> <td align=\"center\" valign=\"middle\">63.250</td> <td align=\"center\" valign=\"middle\">02/01/2024 16:20:53</td> </tr> <tr> <td align=\"center\" rowspan=\"12\" valign=\"middle\">SJC</td> <td align=\"center\" valign=\"middle\">71.200</td> <td align=\"center\" valign=\"middle\">74.100</td> <td align=\"center\" valign=\"middle\">02/01/2024 08:08:38</td> </tr> <tr> <td align=\"center\" valign=\"middle\">70.600</td> <td align=\"center\" valign=\"middle\">73.500</td> <td align=\"center\" valign=\"middle\">02/01/2024 08:36:02</td> </tr> <tr> <td align=\"center\" valign=\"middle\">71.000</td> <td align=\"center\" valign=\"middle\">74.100</td> <td align=\"center\" valign=\"middle\">02/01/2024 09:05:31</td> </tr> <tr> <td align=\"center\" valign=\"middle\">71.600</td> <td align=\"center\" valign=\"middle\">74.600</td> <td align=\"center\" valign=\"middle\">02/01/2024 09:31:52</td> </tr> <tr> <td align=\"center\" valign=\"middle\">72.100</td> <td align=\"center\" valign=\"middle\">75.100</td> <td align=\"center\" valign=\"middle\">02/01/2024 10:26:39</td> </tr> <tr> <td align=\"center\" valign=\"middle\">73.100</td> <td align=\"center\" valign=\"middle\">76.100</td> <td align=\"center\" valign=\"middle\">02/01/2024 10:50:41</td> </tr> <tr> <td align=\"center\" valign=\"middle\">73.600</td> <td align=\"center\" valign=\"middle\">76.500</td> <td align=\"center\" valign=\"middle\">02/01/2024 13:13:49</td> </tr> <tr> <td align=\"center\" valign=\"middle\">73.100</td> <td align=\"center\" valign=\"middle\">76.100</td> <td align=\"center\" valign=\"middle\">02/01/2024 14:16:44</td> </tr> <tr> <td align=\"center\" valign=\"middle\">73.100</td> <td align=\"center\" valign=\"middle\">76.100</td> <td align=\"center\" valign=\"middle\">02/01/2024 14:20:30</td> </tr> <tr> <td align=\"center\" valign=\"middle\">73.100</td> <td align=\"center\" valign=\"middle\">76.100</td> <td align=\"center\" valign=\"middle\">02/01/2024 14:22:10</td> </tr> <tr> <td align=\"center\" valign=\"middle\">73.000</td> <td align=\"center\" valign=\"middle\">76.000</td> <td align=\"center\" valign=\"middle\">02/01/2024 14:45:49</td> </tr> <tr> <td align=\"center\" valign=\"middle\">72.500</td> <td align=\"center\" valign=\"middle\">75.500</td> <td align=\"center\" valign=\"middle\">02/01/2024 16:20:53</td> </tr> </tbody> </table>"
      ]
     },
     "execution_count": 3,
     "metadata": {},
     "output_type": "execute_result"
    }
   ],
   "source": [
    "# gold price HCM is the 4th div\n",
    "divs = soup.find_all(\"div\", class_=\"portlet-body\")\n",
    "gold_price_hcm = divs[3]\n",
    "\n",
    "# Take the first table  \n",
    "table = gold_price_hcm.find(\"table\")\n",
    "table"
   ]
  },
  {
   "cell_type": "code",
   "execution_count": 4,
   "metadata": {},
   "outputs": [
    {
     "data": {
      "text/plain": [
       "<tbody> <tr> <td class=\"style5\">Loại vàng</td> <td class=\"style5\">Giá mua</td> <td class=\"style5\">Giá bán</td> <td class=\"style5\">Thời gian cập nhật</td> </tr> <tr> <td align=\"center\" rowspan=\"12\" valign=\"middle\">PNJ</td> <td align=\"center\" valign=\"middle\">62.000</td> <td align=\"center\" valign=\"middle\">63.100</td> <td align=\"center\" valign=\"middle\">02/01/2024 08:08:38</td> </tr> <tr> <td align=\"center\" valign=\"middle\">61.900</td> <td align=\"center\" valign=\"middle\">63.000</td> <td align=\"center\" valign=\"middle\">02/01/2024 08:36:02</td> </tr> <tr> <td align=\"center\" valign=\"middle\">61.900</td> <td align=\"center\" valign=\"middle\">63.000</td> <td align=\"center\" valign=\"middle\">02/01/2024 09:05:31</td> </tr> <tr> <td align=\"center\" valign=\"middle\">61.900</td> <td align=\"center\" valign=\"middle\">63.000</td> <td align=\"center\" valign=\"middle\">02/01/2024 09:31:52</td> </tr> <tr> <td align=\"center\" valign=\"middle\">61.900</td> <td align=\"center\" valign=\"middle\">63.000</td> <td align=\"center\" valign=\"middle\">02/01/2024 10:26:39</td> </tr> <tr> <td align=\"center\" valign=\"middle\">61.900</td> <td align=\"center\" valign=\"middle\">63.000</td> <td align=\"center\" valign=\"middle\">02/01/2024 10:50:41</td> </tr> <tr> <td align=\"center\" valign=\"middle\">61.200</td> <td align=\"center\" valign=\"middle\">63.100</td> <td align=\"center\" valign=\"middle\">02/01/2024 13:13:49</td> </tr> <tr> <td align=\"center\" valign=\"middle\">61.200</td> <td align=\"center\" valign=\"middle\">63.100</td> <td align=\"center\" valign=\"middle\">02/01/2024 14:16:44</td> </tr> <tr> <td align=\"center\" valign=\"middle\">61.200</td> <td align=\"center\" valign=\"middle\">63.100</td> <td align=\"center\" valign=\"middle\">02/01/2024 14:20:30</td> </tr> <tr> <td align=\"center\" valign=\"middle\">62.000</td> <td align=\"center\" valign=\"middle\">63.100</td> <td align=\"center\" valign=\"middle\">02/01/2024 14:22:10</td> </tr> <tr> <td align=\"center\" valign=\"middle\">62.100</td> <td align=\"center\" valign=\"middle\">63.100</td> <td align=\"center\" valign=\"middle\">02/01/2024 14:45:49</td> </tr> <tr> <td align=\"center\" valign=\"middle\">62.150</td> <td align=\"center\" valign=\"middle\">63.250</td> <td align=\"center\" valign=\"middle\">02/01/2024 16:20:53</td> </tr> <tr> <td align=\"center\" rowspan=\"12\" valign=\"middle\">SJC</td> <td align=\"center\" valign=\"middle\">71.200</td> <td align=\"center\" valign=\"middle\">74.100</td> <td align=\"center\" valign=\"middle\">02/01/2024 08:08:38</td> </tr> <tr> <td align=\"center\" valign=\"middle\">70.600</td> <td align=\"center\" valign=\"middle\">73.500</td> <td align=\"center\" valign=\"middle\">02/01/2024 08:36:02</td> </tr> <tr> <td align=\"center\" valign=\"middle\">71.000</td> <td align=\"center\" valign=\"middle\">74.100</td> <td align=\"center\" valign=\"middle\">02/01/2024 09:05:31</td> </tr> <tr> <td align=\"center\" valign=\"middle\">71.600</td> <td align=\"center\" valign=\"middle\">74.600</td> <td align=\"center\" valign=\"middle\">02/01/2024 09:31:52</td> </tr> <tr> <td align=\"center\" valign=\"middle\">72.100</td> <td align=\"center\" valign=\"middle\">75.100</td> <td align=\"center\" valign=\"middle\">02/01/2024 10:26:39</td> </tr> <tr> <td align=\"center\" valign=\"middle\">73.100</td> <td align=\"center\" valign=\"middle\">76.100</td> <td align=\"center\" valign=\"middle\">02/01/2024 10:50:41</td> </tr> <tr> <td align=\"center\" valign=\"middle\">73.600</td> <td align=\"center\" valign=\"middle\">76.500</td> <td align=\"center\" valign=\"middle\">02/01/2024 13:13:49</td> </tr> <tr> <td align=\"center\" valign=\"middle\">73.100</td> <td align=\"center\" valign=\"middle\">76.100</td> <td align=\"center\" valign=\"middle\">02/01/2024 14:16:44</td> </tr> <tr> <td align=\"center\" valign=\"middle\">73.100</td> <td align=\"center\" valign=\"middle\">76.100</td> <td align=\"center\" valign=\"middle\">02/01/2024 14:20:30</td> </tr> <tr> <td align=\"center\" valign=\"middle\">73.100</td> <td align=\"center\" valign=\"middle\">76.100</td> <td align=\"center\" valign=\"middle\">02/01/2024 14:22:10</td> </tr> <tr> <td align=\"center\" valign=\"middle\">73.000</td> <td align=\"center\" valign=\"middle\">76.000</td> <td align=\"center\" valign=\"middle\">02/01/2024 14:45:49</td> </tr> <tr> <td align=\"center\" valign=\"middle\">72.500</td> <td align=\"center\" valign=\"middle\">75.500</td> <td align=\"center\" valign=\"middle\">02/01/2024 16:20:53</td> </tr> </tbody>"
      ]
     },
     "execution_count": 4,
     "metadata": {},
     "output_type": "execute_result"
    }
   ],
   "source": [
    "# take the body of the table\n",
    "tbody = table.find(\"tbody\")\n",
    "tbody"
   ]
  },
  {
   "cell_type": "code",
   "execution_count": 6,
   "metadata": {},
   "outputs": [
    {
     "data": {
      "text/plain": [
       "[<tr> <td align=\"center\" rowspan=\"12\" valign=\"middle\">PNJ</td> <td align=\"center\" valign=\"middle\">62.000</td> <td align=\"center\" valign=\"middle\">63.100</td> <td align=\"center\" valign=\"middle\">02/01/2024 08:08:38</td> </tr>,\n",
       " <tr> <td align=\"center\" valign=\"middle\">61.900</td> <td align=\"center\" valign=\"middle\">63.000</td> <td align=\"center\" valign=\"middle\">02/01/2024 08:36:02</td> </tr>,\n",
       " <tr> <td align=\"center\" valign=\"middle\">61.900</td> <td align=\"center\" valign=\"middle\">63.000</td> <td align=\"center\" valign=\"middle\">02/01/2024 09:05:31</td> </tr>,\n",
       " <tr> <td align=\"center\" valign=\"middle\">61.900</td> <td align=\"center\" valign=\"middle\">63.000</td> <td align=\"center\" valign=\"middle\">02/01/2024 09:31:52</td> </tr>,\n",
       " <tr> <td align=\"center\" valign=\"middle\">61.900</td> <td align=\"center\" valign=\"middle\">63.000</td> <td align=\"center\" valign=\"middle\">02/01/2024 10:26:39</td> </tr>,\n",
       " <tr> <td align=\"center\" valign=\"middle\">61.900</td> <td align=\"center\" valign=\"middle\">63.000</td> <td align=\"center\" valign=\"middle\">02/01/2024 10:50:41</td> </tr>,\n",
       " <tr> <td align=\"center\" valign=\"middle\">61.200</td> <td align=\"center\" valign=\"middle\">63.100</td> <td align=\"center\" valign=\"middle\">02/01/2024 13:13:49</td> </tr>,\n",
       " <tr> <td align=\"center\" valign=\"middle\">61.200</td> <td align=\"center\" valign=\"middle\">63.100</td> <td align=\"center\" valign=\"middle\">02/01/2024 14:16:44</td> </tr>,\n",
       " <tr> <td align=\"center\" valign=\"middle\">61.200</td> <td align=\"center\" valign=\"middle\">63.100</td> <td align=\"center\" valign=\"middle\">02/01/2024 14:20:30</td> </tr>,\n",
       " <tr> <td align=\"center\" valign=\"middle\">62.000</td> <td align=\"center\" valign=\"middle\">63.100</td> <td align=\"center\" valign=\"middle\">02/01/2024 14:22:10</td> </tr>,\n",
       " <tr> <td align=\"center\" valign=\"middle\">62.100</td> <td align=\"center\" valign=\"middle\">63.100</td> <td align=\"center\" valign=\"middle\">02/01/2024 14:45:49</td> </tr>,\n",
       " <tr> <td align=\"center\" valign=\"middle\">62.150</td> <td align=\"center\" valign=\"middle\">63.250</td> <td align=\"center\" valign=\"middle\">02/01/2024 16:20:53</td> </tr>,\n",
       " <tr> <td align=\"center\" rowspan=\"12\" valign=\"middle\">SJC</td> <td align=\"center\" valign=\"middle\">71.200</td> <td align=\"center\" valign=\"middle\">74.100</td> <td align=\"center\" valign=\"middle\">02/01/2024 08:08:38</td> </tr>,\n",
       " <tr> <td align=\"center\" valign=\"middle\">70.600</td> <td align=\"center\" valign=\"middle\">73.500</td> <td align=\"center\" valign=\"middle\">02/01/2024 08:36:02</td> </tr>,\n",
       " <tr> <td align=\"center\" valign=\"middle\">71.000</td> <td align=\"center\" valign=\"middle\">74.100</td> <td align=\"center\" valign=\"middle\">02/01/2024 09:05:31</td> </tr>,\n",
       " <tr> <td align=\"center\" valign=\"middle\">71.600</td> <td align=\"center\" valign=\"middle\">74.600</td> <td align=\"center\" valign=\"middle\">02/01/2024 09:31:52</td> </tr>,\n",
       " <tr> <td align=\"center\" valign=\"middle\">72.100</td> <td align=\"center\" valign=\"middle\">75.100</td> <td align=\"center\" valign=\"middle\">02/01/2024 10:26:39</td> </tr>,\n",
       " <tr> <td align=\"center\" valign=\"middle\">73.100</td> <td align=\"center\" valign=\"middle\">76.100</td> <td align=\"center\" valign=\"middle\">02/01/2024 10:50:41</td> </tr>,\n",
       " <tr> <td align=\"center\" valign=\"middle\">73.600</td> <td align=\"center\" valign=\"middle\">76.500</td> <td align=\"center\" valign=\"middle\">02/01/2024 13:13:49</td> </tr>,\n",
       " <tr> <td align=\"center\" valign=\"middle\">73.100</td> <td align=\"center\" valign=\"middle\">76.100</td> <td align=\"center\" valign=\"middle\">02/01/2024 14:16:44</td> </tr>,\n",
       " <tr> <td align=\"center\" valign=\"middle\">73.100</td> <td align=\"center\" valign=\"middle\">76.100</td> <td align=\"center\" valign=\"middle\">02/01/2024 14:20:30</td> </tr>,\n",
       " <tr> <td align=\"center\" valign=\"middle\">73.100</td> <td align=\"center\" valign=\"middle\">76.100</td> <td align=\"center\" valign=\"middle\">02/01/2024 14:22:10</td> </tr>,\n",
       " <tr> <td align=\"center\" valign=\"middle\">73.000</td> <td align=\"center\" valign=\"middle\">76.000</td> <td align=\"center\" valign=\"middle\">02/01/2024 14:45:49</td> </tr>,\n",
       " <tr> <td align=\"center\" valign=\"middle\">72.500</td> <td align=\"center\" valign=\"middle\">75.500</td> <td align=\"center\" valign=\"middle\">02/01/2024 16:20:53</td> </tr>]"
      ]
     },
     "execution_count": 6,
     "metadata": {},
     "output_type": "execute_result"
    }
   ],
   "source": [
    "# take gold type and price\n",
    "trs = tbody.find_all(\"tr\")[1:]\n",
    "trs"
   ]
  },
  {
   "cell_type": "code",
   "execution_count": 8,
   "metadata": {},
   "outputs": [
    {
     "name": "stdout",
     "output_type": "stream",
     "text": [
      "61.900\n",
      "63.000\n",
      "02/01/2024 09:05:31\n"
     ]
    }
   ],
   "source": [
    "tr3 = trs[2]\n",
    "# <tr> <td align=\"center\" valign=\"middle\">61.900</td> <td align=\"center\" valign=\"middle\">63.000</td> <td align=\"center\" valign=\"middle\">02/01/2024 10:26:39</td> </tr>\n",
    "\n",
    "tds = tr3.find_all(\"td\")\n",
    "\n",
    "# [<td align=\"center\" valign=\"middle\">61.900</td>,\n",
    "#  <td align=\"center\" valign=\"middle\">63.000</td>,\n",
    "#  <td align=\"center\" valign=\"middle\">02/01/2024 10:26:39</td>]\n",
    "\n",
    "# take buy, sell and time\n",
    "buy = tds[0].text\n",
    "sell = tds[1].text\n",
    "time = tds[2].text\n",
    "\n",
    "print(buy)\n",
    "print(sell)\n",
    "print(time)\n"
   ]
  },
  {
   "cell_type": "code",
   "execution_count": 13,
   "metadata": {},
   "outputs": [
    {
     "name": "stdout",
     "output_type": "stream",
     "text": [
      "{'type': ['PNJ', 'PNJ', 'PNJ', 'PNJ', 'PNJ', 'PNJ', 'PNJ', 'PNJ', 'PNJ', 'PNJ', 'PNJ', 'PNJ', 'SJC', 'SJC', 'SJC', 'SJC', 'SJC', 'SJC', 'SJC', 'SJC', 'SJC', 'SJC', 'SJC', 'SJC'], 'buy': ['63.100', '63.000', '63.000', '63.000', '63.000', '63.000', '63.100', '63.100', '63.100', '63.100', '63.100', '63.250', '74.100', '73.500', '74.100', '74.600', '75.100', '76.100', '76.500', '76.100', '76.100', '76.100', '76.000', '75.500'], 'sell': ['62.000', '61.900', '61.900', '61.900', '61.900', '61.900', '61.200', '61.200', '61.200', '62.000', '62.100', '62.150', '71.200', '70.600', '71.000', '71.600', '72.100', '73.100', '73.600', '73.100', '73.100', '73.100', '73.000', '72.500'], 'update': ['02/01/2024 08:08:38', '02/01/2024 08:36:02', '02/01/2024 09:05:31', '02/01/2024 09:31:52', '02/01/2024 10:26:39', '02/01/2024 10:50:41', '02/01/2024 13:13:49', '02/01/2024 14:16:44', '02/01/2024 14:20:30', '02/01/2024 14:22:10', '02/01/2024 14:45:49', '02/01/2024 16:20:53', '02/01/2024 08:08:38', '02/01/2024 08:36:02', '02/01/2024 09:05:31', '02/01/2024 09:31:52', '02/01/2024 10:26:39', '02/01/2024 10:50:41', '02/01/2024 13:13:49', '02/01/2024 14:16:44', '02/01/2024 14:20:30', '02/01/2024 14:22:10', '02/01/2024 14:45:49', '02/01/2024 16:20:53']}\n"
     ]
    }
   ],
   "source": [
    "dict = {\n",
    "    'type': [],\n",
    "    'buy': [],\n",
    "    'sell': [],\n",
    "    'update': []\n",
    "}\n",
    "\n",
    "type = 'PNJ'\n",
    "for tr in trs:\n",
    "    tds = tr.find_all(\"td\")\n",
    "    buy = tds[0].text\n",
    "    sell = tds[1].text\n",
    "    time = tds[2].text\n",
    "    if buy == 'PNJ':\n",
    "        buy = tds[1].text\n",
    "        sell = tds[2].text\n",
    "        time = tds[3].text\n",
    "    if buy == 'SJC':\n",
    "        buy = tds[1].text\n",
    "        sell = tds[2].text\n",
    "        time = tds[3].text\n",
    "        type = 'SJC'\n",
    "    dict['type'].append(type)\n",
    "    dict['buy'].append(sell)\n",
    "    dict['sell'].append(buy)\n",
    "    dict['update'].append(time)\n",
    "\n",
    "print(dict)"
   ]
  },
  {
   "cell_type": "code",
   "execution_count": 14,
   "metadata": {},
   "outputs": [
    {
     "data": {
      "text/html": [
       "<div>\n",
       "<style scoped>\n",
       "    .dataframe tbody tr th:only-of-type {\n",
       "        vertical-align: middle;\n",
       "    }\n",
       "\n",
       "    .dataframe tbody tr th {\n",
       "        vertical-align: top;\n",
       "    }\n",
       "\n",
       "    .dataframe thead th {\n",
       "        text-align: right;\n",
       "    }\n",
       "</style>\n",
       "<table border=\"1\" class=\"dataframe\">\n",
       "  <thead>\n",
       "    <tr style=\"text-align: right;\">\n",
       "      <th></th>\n",
       "      <th>type</th>\n",
       "      <th>buy</th>\n",
       "      <th>sell</th>\n",
       "      <th>update</th>\n",
       "    </tr>\n",
       "  </thead>\n",
       "  <tbody>\n",
       "    <tr>\n",
       "      <th>0</th>\n",
       "      <td>PNJ</td>\n",
       "      <td>63.100</td>\n",
       "      <td>62.000</td>\n",
       "      <td>02/01/2024 08:08:38</td>\n",
       "    </tr>\n",
       "    <tr>\n",
       "      <th>1</th>\n",
       "      <td>PNJ</td>\n",
       "      <td>63.000</td>\n",
       "      <td>61.900</td>\n",
       "      <td>02/01/2024 08:36:02</td>\n",
       "    </tr>\n",
       "    <tr>\n",
       "      <th>2</th>\n",
       "      <td>PNJ</td>\n",
       "      <td>63.000</td>\n",
       "      <td>61.900</td>\n",
       "      <td>02/01/2024 09:05:31</td>\n",
       "    </tr>\n",
       "    <tr>\n",
       "      <th>3</th>\n",
       "      <td>PNJ</td>\n",
       "      <td>63.000</td>\n",
       "      <td>61.900</td>\n",
       "      <td>02/01/2024 09:31:52</td>\n",
       "    </tr>\n",
       "    <tr>\n",
       "      <th>4</th>\n",
       "      <td>PNJ</td>\n",
       "      <td>63.000</td>\n",
       "      <td>61.900</td>\n",
       "      <td>02/01/2024 10:26:39</td>\n",
       "    </tr>\n",
       "    <tr>\n",
       "      <th>5</th>\n",
       "      <td>PNJ</td>\n",
       "      <td>63.000</td>\n",
       "      <td>61.900</td>\n",
       "      <td>02/01/2024 10:50:41</td>\n",
       "    </tr>\n",
       "    <tr>\n",
       "      <th>6</th>\n",
       "      <td>PNJ</td>\n",
       "      <td>63.100</td>\n",
       "      <td>61.200</td>\n",
       "      <td>02/01/2024 13:13:49</td>\n",
       "    </tr>\n",
       "    <tr>\n",
       "      <th>7</th>\n",
       "      <td>PNJ</td>\n",
       "      <td>63.100</td>\n",
       "      <td>61.200</td>\n",
       "      <td>02/01/2024 14:16:44</td>\n",
       "    </tr>\n",
       "    <tr>\n",
       "      <th>8</th>\n",
       "      <td>PNJ</td>\n",
       "      <td>63.100</td>\n",
       "      <td>61.200</td>\n",
       "      <td>02/01/2024 14:20:30</td>\n",
       "    </tr>\n",
       "    <tr>\n",
       "      <th>9</th>\n",
       "      <td>PNJ</td>\n",
       "      <td>63.100</td>\n",
       "      <td>62.000</td>\n",
       "      <td>02/01/2024 14:22:10</td>\n",
       "    </tr>\n",
       "    <tr>\n",
       "      <th>10</th>\n",
       "      <td>PNJ</td>\n",
       "      <td>63.100</td>\n",
       "      <td>62.100</td>\n",
       "      <td>02/01/2024 14:45:49</td>\n",
       "    </tr>\n",
       "    <tr>\n",
       "      <th>11</th>\n",
       "      <td>PNJ</td>\n",
       "      <td>63.250</td>\n",
       "      <td>62.150</td>\n",
       "      <td>02/01/2024 16:20:53</td>\n",
       "    </tr>\n",
       "    <tr>\n",
       "      <th>12</th>\n",
       "      <td>SJC</td>\n",
       "      <td>74.100</td>\n",
       "      <td>71.200</td>\n",
       "      <td>02/01/2024 08:08:38</td>\n",
       "    </tr>\n",
       "    <tr>\n",
       "      <th>13</th>\n",
       "      <td>SJC</td>\n",
       "      <td>73.500</td>\n",
       "      <td>70.600</td>\n",
       "      <td>02/01/2024 08:36:02</td>\n",
       "    </tr>\n",
       "    <tr>\n",
       "      <th>14</th>\n",
       "      <td>SJC</td>\n",
       "      <td>74.100</td>\n",
       "      <td>71.000</td>\n",
       "      <td>02/01/2024 09:05:31</td>\n",
       "    </tr>\n",
       "    <tr>\n",
       "      <th>15</th>\n",
       "      <td>SJC</td>\n",
       "      <td>74.600</td>\n",
       "      <td>71.600</td>\n",
       "      <td>02/01/2024 09:31:52</td>\n",
       "    </tr>\n",
       "    <tr>\n",
       "      <th>16</th>\n",
       "      <td>SJC</td>\n",
       "      <td>75.100</td>\n",
       "      <td>72.100</td>\n",
       "      <td>02/01/2024 10:26:39</td>\n",
       "    </tr>\n",
       "    <tr>\n",
       "      <th>17</th>\n",
       "      <td>SJC</td>\n",
       "      <td>76.100</td>\n",
       "      <td>73.100</td>\n",
       "      <td>02/01/2024 10:50:41</td>\n",
       "    </tr>\n",
       "    <tr>\n",
       "      <th>18</th>\n",
       "      <td>SJC</td>\n",
       "      <td>76.500</td>\n",
       "      <td>73.600</td>\n",
       "      <td>02/01/2024 13:13:49</td>\n",
       "    </tr>\n",
       "    <tr>\n",
       "      <th>19</th>\n",
       "      <td>SJC</td>\n",
       "      <td>76.100</td>\n",
       "      <td>73.100</td>\n",
       "      <td>02/01/2024 14:16:44</td>\n",
       "    </tr>\n",
       "    <tr>\n",
       "      <th>20</th>\n",
       "      <td>SJC</td>\n",
       "      <td>76.100</td>\n",
       "      <td>73.100</td>\n",
       "      <td>02/01/2024 14:20:30</td>\n",
       "    </tr>\n",
       "    <tr>\n",
       "      <th>21</th>\n",
       "      <td>SJC</td>\n",
       "      <td>76.100</td>\n",
       "      <td>73.100</td>\n",
       "      <td>02/01/2024 14:22:10</td>\n",
       "    </tr>\n",
       "    <tr>\n",
       "      <th>22</th>\n",
       "      <td>SJC</td>\n",
       "      <td>76.000</td>\n",
       "      <td>73.000</td>\n",
       "      <td>02/01/2024 14:45:49</td>\n",
       "    </tr>\n",
       "    <tr>\n",
       "      <th>23</th>\n",
       "      <td>SJC</td>\n",
       "      <td>75.500</td>\n",
       "      <td>72.500</td>\n",
       "      <td>02/01/2024 16:20:53</td>\n",
       "    </tr>\n",
       "  </tbody>\n",
       "</table>\n",
       "</div>"
      ],
      "text/plain": [
       "   type     buy    sell               update\n",
       "0   PNJ  63.100  62.000  02/01/2024 08:08:38\n",
       "1   PNJ  63.000  61.900  02/01/2024 08:36:02\n",
       "2   PNJ  63.000  61.900  02/01/2024 09:05:31\n",
       "3   PNJ  63.000  61.900  02/01/2024 09:31:52\n",
       "4   PNJ  63.000  61.900  02/01/2024 10:26:39\n",
       "5   PNJ  63.000  61.900  02/01/2024 10:50:41\n",
       "6   PNJ  63.100  61.200  02/01/2024 13:13:49\n",
       "7   PNJ  63.100  61.200  02/01/2024 14:16:44\n",
       "8   PNJ  63.100  61.200  02/01/2024 14:20:30\n",
       "9   PNJ  63.100  62.000  02/01/2024 14:22:10\n",
       "10  PNJ  63.100  62.100  02/01/2024 14:45:49\n",
       "11  PNJ  63.250  62.150  02/01/2024 16:20:53\n",
       "12  SJC  74.100  71.200  02/01/2024 08:08:38\n",
       "13  SJC  73.500  70.600  02/01/2024 08:36:02\n",
       "14  SJC  74.100  71.000  02/01/2024 09:05:31\n",
       "15  SJC  74.600  71.600  02/01/2024 09:31:52\n",
       "16  SJC  75.100  72.100  02/01/2024 10:26:39\n",
       "17  SJC  76.100  73.100  02/01/2024 10:50:41\n",
       "18  SJC  76.500  73.600  02/01/2024 13:13:49\n",
       "19  SJC  76.100  73.100  02/01/2024 14:16:44\n",
       "20  SJC  76.100  73.100  02/01/2024 14:20:30\n",
       "21  SJC  76.100  73.100  02/01/2024 14:22:10\n",
       "22  SJC  76.000  73.000  02/01/2024 14:45:49\n",
       "23  SJC  75.500  72.500  02/01/2024 16:20:53"
      ]
     },
     "execution_count": 14,
     "metadata": {},
     "output_type": "execute_result"
    }
   ],
   "source": [
    "import pandas as pd\n",
    "df = pd.DataFrame(dict)\n",
    "df"
   ]
  },
  {
   "cell_type": "code",
   "execution_count": 15,
   "metadata": {},
   "outputs": [],
   "source": [
    "df.to_csv('one_page.csv', index=False)"
   ]
  }
 ],
 "metadata": {
  "kernelspec": {
   "display_name": "base",
   "language": "python",
   "name": "python3"
  },
  "language_info": {
   "codemirror_mode": {
    "name": "ipython",
    "version": 3
   },
   "file_extension": ".py",
   "mimetype": "text/x-python",
   "name": "python",
   "nbconvert_exporter": "python",
   "pygments_lexer": "ipython3",
   "version": "3.11.7"
  }
 },
 "nbformat": 4,
 "nbformat_minor": 2
}
